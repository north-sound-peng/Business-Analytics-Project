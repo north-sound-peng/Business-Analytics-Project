{
 "cells": [
  {
   "cell_type": "code",
   "execution_count": 211,
   "id": "05a182eb-3954-4452-bfa1-a73c8254884d",
   "metadata": {
    "scrolled": true
   },
   "outputs": [
    {
     "name": "stdout",
     "output_type": "stream",
     "text": [
      "Defaulting to user installation because normal site-packages is not writeable\n",
      "Requirement already satisfied: jupyter in ./.local/lib/python3.11/site-packages (1.0.0)\n",
      "Requirement already satisfied: notebook in ./.local/lib/python3.11/site-packages (from jupyter) (7.0.8)\n",
      "Requirement already satisfied: qtconsole in ./.local/lib/python3.11/site-packages (from jupyter) (5.5.1)\n",
      "Requirement already satisfied: jupyter-console in ./.local/lib/python3.11/site-packages (from jupyter) (6.6.3)\n",
      "Requirement already satisfied: nbconvert in ./.local/lib/python3.11/site-packages (from jupyter) (7.16.0)\n",
      "Requirement already satisfied: ipykernel in /opt/conda/envs/mggy8413/lib/python3.11/site-packages (from jupyter) (6.29.2)\n",
      "Requirement already satisfied: ipywidgets in ./.local/lib/python3.11/site-packages (from jupyter) (8.1.2)\n",
      "Requirement already satisfied: comm>=0.1.1 in /opt/conda/envs/mggy8413/lib/python3.11/site-packages (from ipykernel->jupyter) (0.2.1)\n",
      "Requirement already satisfied: debugpy>=1.6.5 in /opt/conda/envs/mggy8413/lib/python3.11/site-packages (from ipykernel->jupyter) (1.8.1)\n",
      "Requirement already satisfied: ipython>=7.23.1 in /opt/conda/envs/mggy8413/lib/python3.11/site-packages (from ipykernel->jupyter) (8.21.0)\n",
      "Requirement already satisfied: jupyter-client>=6.1.12 in /opt/conda/envs/mggy8413/lib/python3.11/site-packages (from ipykernel->jupyter) (8.6.0)\n",
      "Requirement already satisfied: jupyter-core!=5.0.*,>=4.12 in /opt/conda/envs/mggy8413/lib/python3.11/site-packages (from ipykernel->jupyter) (5.7.1)\n",
      "Requirement already satisfied: matplotlib-inline>=0.1 in /opt/conda/envs/mggy8413/lib/python3.11/site-packages (from ipykernel->jupyter) (0.1.6)\n",
      "Requirement already satisfied: nest-asyncio in /opt/conda/envs/mggy8413/lib/python3.11/site-packages (from ipykernel->jupyter) (1.6.0)\n",
      "Requirement already satisfied: packaging in /opt/conda/envs/mggy8413/lib/python3.11/site-packages (from ipykernel->jupyter) (23.2)\n",
      "Requirement already satisfied: psutil in /opt/conda/envs/mggy8413/lib/python3.11/site-packages (from ipykernel->jupyter) (5.9.8)\n",
      "Requirement already satisfied: pyzmq>=24 in /opt/conda/envs/mggy8413/lib/python3.11/site-packages (from ipykernel->jupyter) (25.1.2)\n",
      "Requirement already satisfied: tornado>=6.1 in /opt/conda/envs/mggy8413/lib/python3.11/site-packages (from ipykernel->jupyter) (6.3.3)\n",
      "Requirement already satisfied: traitlets>=5.4.0 in /opt/conda/envs/mggy8413/lib/python3.11/site-packages (from ipykernel->jupyter) (5.14.1)\n",
      "Requirement already satisfied: widgetsnbextension~=4.0.10 in ./.local/lib/python3.11/site-packages (from ipywidgets->jupyter) (4.0.10)\n",
      "Requirement already satisfied: jupyterlab-widgets~=3.0.10 in ./.local/lib/python3.11/site-packages (from ipywidgets->jupyter) (3.0.10)\n",
      "Requirement already satisfied: prompt-toolkit>=3.0.30 in /opt/conda/envs/mggy8413/lib/python3.11/site-packages (from jupyter-console->jupyter) (3.0.42)\n",
      "Requirement already satisfied: pygments in /opt/conda/envs/mggy8413/lib/python3.11/site-packages (from jupyter-console->jupyter) (2.17.2)\n",
      "Requirement already satisfied: beautifulsoup4 in /opt/conda/envs/mggy8413/lib/python3.11/site-packages (from nbconvert->jupyter) (4.12.3)\n",
      "Requirement already satisfied: bleach!=5.0.0 in ./.local/lib/python3.11/site-packages (from nbconvert->jupyter) (6.1.0)\n",
      "Requirement already satisfied: defusedxml in ./.local/lib/python3.11/site-packages (from nbconvert->jupyter) (0.7.1)\n",
      "Requirement already satisfied: jinja2>=3.0 in /opt/conda/envs/mggy8413/lib/python3.11/site-packages (from nbconvert->jupyter) (3.1.3)\n",
      "Requirement already satisfied: jupyterlab-pygments in ./.local/lib/python3.11/site-packages (from nbconvert->jupyter) (0.3.0)\n",
      "Requirement already satisfied: markupsafe>=2.0 in /opt/conda/envs/mggy8413/lib/python3.11/site-packages (from nbconvert->jupyter) (2.1.5)\n",
      "Requirement already satisfied: mistune<4,>=2.0.3 in ./.local/lib/python3.11/site-packages (from nbconvert->jupyter) (3.0.2)\n",
      "Requirement already satisfied: nbclient>=0.5.0 in ./.local/lib/python3.11/site-packages (from nbconvert->jupyter) (0.9.0)\n",
      "Requirement already satisfied: nbformat>=5.7 in ./.local/lib/python3.11/site-packages (from nbconvert->jupyter) (5.9.2)\n",
      "Requirement already satisfied: pandocfilters>=1.4.1 in ./.local/lib/python3.11/site-packages (from nbconvert->jupyter) (1.5.1)\n",
      "Requirement already satisfied: tinycss2 in ./.local/lib/python3.11/site-packages (from nbconvert->jupyter) (1.2.1)\n",
      "Requirement already satisfied: jupyter-server<3,>=2.4.0 in ./.local/lib/python3.11/site-packages (from notebook->jupyter) (2.12.5)\n",
      "Requirement already satisfied: jupyterlab-server<3,>=2.22.1 in ./.local/lib/python3.11/site-packages (from notebook->jupyter) (2.25.2)\n",
      "Requirement already satisfied: jupyterlab<4.1,>=4.0.2 in ./.local/lib/python3.11/site-packages (from notebook->jupyter) (4.0.12)\n",
      "Requirement already satisfied: notebook-shim<0.3,>=0.2 in ./.local/lib/python3.11/site-packages (from notebook->jupyter) (0.2.3)\n",
      "Requirement already satisfied: qtpy>=2.4.0 in ./.local/lib/python3.11/site-packages (from qtconsole->jupyter) (2.4.1)\n",
      "Requirement already satisfied: six>=1.9.0 in /opt/conda/envs/mggy8413/lib/python3.11/site-packages (from bleach!=5.0.0->nbconvert->jupyter) (1.16.0)\n",
      "Requirement already satisfied: webencodings in /opt/conda/envs/mggy8413/lib/python3.11/site-packages (from bleach!=5.0.0->nbconvert->jupyter) (0.5.1)\n",
      "Requirement already satisfied: decorator in /opt/conda/envs/mggy8413/lib/python3.11/site-packages (from ipython>=7.23.1->ipykernel->jupyter) (5.1.1)\n",
      "Requirement already satisfied: jedi>=0.16 in /opt/conda/envs/mggy8413/lib/python3.11/site-packages (from ipython>=7.23.1->ipykernel->jupyter) (0.19.1)\n",
      "Requirement already satisfied: stack-data in /opt/conda/envs/mggy8413/lib/python3.11/site-packages (from ipython>=7.23.1->ipykernel->jupyter) (0.6.2)\n",
      "Requirement already satisfied: pexpect>4.3 in /opt/conda/envs/mggy8413/lib/python3.11/site-packages (from ipython>=7.23.1->ipykernel->jupyter) (4.9.0)\n",
      "Requirement already satisfied: python-dateutil>=2.8.2 in /opt/conda/envs/mggy8413/lib/python3.11/site-packages (from jupyter-client>=6.1.12->ipykernel->jupyter) (2.8.2)\n",
      "Requirement already satisfied: platformdirs>=2.5 in /opt/conda/envs/mggy8413/lib/python3.11/site-packages (from jupyter-core!=5.0.*,>=4.12->ipykernel->jupyter) (4.2.0)\n",
      "Requirement already satisfied: anyio>=3.1.0 in /opt/conda/envs/mggy8413/lib/python3.11/site-packages (from jupyter-server<3,>=2.4.0->notebook->jupyter) (4.2.0)\n",
      "Requirement already satisfied: argon2-cffi in ./.local/lib/python3.11/site-packages (from jupyter-server<3,>=2.4.0->notebook->jupyter) (23.1.0)\n",
      "Requirement already satisfied: jupyter-events>=0.9.0 in ./.local/lib/python3.11/site-packages (from jupyter-server<3,>=2.4.0->notebook->jupyter) (0.9.0)\n",
      "Requirement already satisfied: jupyter-server-terminals in ./.local/lib/python3.11/site-packages (from jupyter-server<3,>=2.4.0->notebook->jupyter) (0.5.2)\n",
      "Requirement already satisfied: overrides in ./.local/lib/python3.11/site-packages (from jupyter-server<3,>=2.4.0->notebook->jupyter) (7.7.0)\n",
      "Requirement already satisfied: prometheus-client in ./.local/lib/python3.11/site-packages (from jupyter-server<3,>=2.4.0->notebook->jupyter) (0.19.0)\n",
      "Requirement already satisfied: send2trash>=1.8.2 in ./.local/lib/python3.11/site-packages (from jupyter-server<3,>=2.4.0->notebook->jupyter) (1.8.2)\n",
      "Requirement already satisfied: terminado>=0.8.3 in ./.local/lib/python3.11/site-packages (from jupyter-server<3,>=2.4.0->notebook->jupyter) (0.18.0)\n",
      "Requirement already satisfied: websocket-client in ./.local/lib/python3.11/site-packages (from jupyter-server<3,>=2.4.0->notebook->jupyter) (1.7.0)\n",
      "Requirement already satisfied: async-lru>=1.0.0 in ./.local/lib/python3.11/site-packages (from jupyterlab<4.1,>=4.0.2->notebook->jupyter) (2.0.4)\n",
      "Requirement already satisfied: jupyter-lsp>=2.0.0 in ./.local/lib/python3.11/site-packages (from jupyterlab<4.1,>=4.0.2->notebook->jupyter) (2.2.2)\n",
      "Requirement already satisfied: babel>=2.10 in ./.local/lib/python3.11/site-packages (from jupyterlab-server<3,>=2.22.1->notebook->jupyter) (2.14.0)\n",
      "Requirement already satisfied: json5>=0.9.0 in ./.local/lib/python3.11/site-packages (from jupyterlab-server<3,>=2.22.1->notebook->jupyter) (0.9.14)\n",
      "Requirement already satisfied: jsonschema>=4.18.0 in ./.local/lib/python3.11/site-packages (from jupyterlab-server<3,>=2.22.1->notebook->jupyter) (4.21.1)\n",
      "Requirement already satisfied: requests>=2.31 in /opt/conda/envs/mggy8413/lib/python3.11/site-packages (from jupyterlab-server<3,>=2.22.1->notebook->jupyter) (2.31.0)\n",
      "Requirement already satisfied: fastjsonschema in ./.local/lib/python3.11/site-packages (from nbformat>=5.7->nbconvert->jupyter) (2.19.1)\n",
      "Requirement already satisfied: wcwidth in /opt/conda/envs/mggy8413/lib/python3.11/site-packages (from prompt-toolkit>=3.0.30->jupyter-console->jupyter) (0.2.13)\n",
      "Requirement already satisfied: soupsieve>1.2 in /opt/conda/envs/mggy8413/lib/python3.11/site-packages (from beautifulsoup4->nbconvert->jupyter) (2.5)\n",
      "Requirement already satisfied: idna>=2.8 in /opt/conda/envs/mggy8413/lib/python3.11/site-packages (from anyio>=3.1.0->jupyter-server<3,>=2.4.0->notebook->jupyter) (3.6)\n",
      "Requirement already satisfied: sniffio>=1.1 in /opt/conda/envs/mggy8413/lib/python3.11/site-packages (from anyio>=3.1.0->jupyter-server<3,>=2.4.0->notebook->jupyter) (1.3.0)\n",
      "Requirement already satisfied: parso<0.9.0,>=0.8.3 in /opt/conda/envs/mggy8413/lib/python3.11/site-packages (from jedi>=0.16->ipython>=7.23.1->ipykernel->jupyter) (0.8.3)\n",
      "Requirement already satisfied: attrs>=22.2.0 in /opt/conda/envs/mggy8413/lib/python3.11/site-packages (from jsonschema>=4.18.0->jupyterlab-server<3,>=2.22.1->notebook->jupyter) (23.2.0)\n",
      "Requirement already satisfied: jsonschema-specifications>=2023.03.6 in ./.local/lib/python3.11/site-packages (from jsonschema>=4.18.0->jupyterlab-server<3,>=2.22.1->notebook->jupyter) (2023.12.1)\n",
      "Requirement already satisfied: referencing>=0.28.4 in ./.local/lib/python3.11/site-packages (from jsonschema>=4.18.0->jupyterlab-server<3,>=2.22.1->notebook->jupyter) (0.33.0)\n",
      "Requirement already satisfied: rpds-py>=0.7.1 in ./.local/lib/python3.11/site-packages (from jsonschema>=4.18.0->jupyterlab-server<3,>=2.22.1->notebook->jupyter) (0.17.1)\n",
      "Requirement already satisfied: python-json-logger>=2.0.4 in ./.local/lib/python3.11/site-packages (from jupyter-events>=0.9.0->jupyter-server<3,>=2.4.0->notebook->jupyter) (2.0.7)\n",
      "Requirement already satisfied: pyyaml>=5.3 in /opt/conda/envs/mggy8413/lib/python3.11/site-packages (from jupyter-events>=0.9.0->jupyter-server<3,>=2.4.0->notebook->jupyter) (6.0.1)\n",
      "Requirement already satisfied: rfc3339-validator in ./.local/lib/python3.11/site-packages (from jupyter-events>=0.9.0->jupyter-server<3,>=2.4.0->notebook->jupyter) (0.1.4)\n",
      "Requirement already satisfied: rfc3986-validator>=0.1.1 in ./.local/lib/python3.11/site-packages (from jupyter-events>=0.9.0->jupyter-server<3,>=2.4.0->notebook->jupyter) (0.1.1)\n",
      "Requirement already satisfied: ptyprocess>=0.5 in /opt/conda/envs/mggy8413/lib/python3.11/site-packages (from pexpect>4.3->ipython>=7.23.1->ipykernel->jupyter) (0.7.0)\n",
      "Requirement already satisfied: charset-normalizer<4,>=2 in /opt/conda/envs/mggy8413/lib/python3.11/site-packages (from requests>=2.31->jupyterlab-server<3,>=2.22.1->notebook->jupyter) (3.3.2)\n",
      "Requirement already satisfied: urllib3<3,>=1.21.1 in /opt/conda/envs/mggy8413/lib/python3.11/site-packages (from requests>=2.31->jupyterlab-server<3,>=2.22.1->notebook->jupyter) (2.2.0)\n",
      "Requirement already satisfied: certifi>=2017.4.17 in /opt/conda/envs/mggy8413/lib/python3.11/site-packages (from requests>=2.31->jupyterlab-server<3,>=2.22.1->notebook->jupyter) (2024.2.2)\n",
      "Requirement already satisfied: argon2-cffi-bindings in ./.local/lib/python3.11/site-packages (from argon2-cffi->jupyter-server<3,>=2.4.0->notebook->jupyter) (21.2.0)\n",
      "Requirement already satisfied: executing>=1.2.0 in /opt/conda/envs/mggy8413/lib/python3.11/site-packages (from stack-data->ipython>=7.23.1->ipykernel->jupyter) (2.0.1)\n",
      "Requirement already satisfied: asttokens>=2.1.0 in /opt/conda/envs/mggy8413/lib/python3.11/site-packages (from stack-data->ipython>=7.23.1->ipykernel->jupyter) (2.4.1)\n",
      "Requirement already satisfied: pure-eval in /opt/conda/envs/mggy8413/lib/python3.11/site-packages (from stack-data->ipython>=7.23.1->ipykernel->jupyter) (0.2.2)\n",
      "Requirement already satisfied: fqdn in ./.local/lib/python3.11/site-packages (from jsonschema[format-nongpl]>=4.18.0->jupyter-events>=0.9.0->jupyter-server<3,>=2.4.0->notebook->jupyter) (1.5.1)\n",
      "Requirement already satisfied: isoduration in ./.local/lib/python3.11/site-packages (from jsonschema[format-nongpl]>=4.18.0->jupyter-events>=0.9.0->jupyter-server<3,>=2.4.0->notebook->jupyter) (20.11.0)\n",
      "Requirement already satisfied: jsonpointer>1.13 in /opt/conda/envs/mggy8413/lib/python3.11/site-packages (from jsonschema[format-nongpl]>=4.18.0->jupyter-events>=0.9.0->jupyter-server<3,>=2.4.0->notebook->jupyter) (2.4)\n",
      "Requirement already satisfied: uri-template in ./.local/lib/python3.11/site-packages (from jsonschema[format-nongpl]>=4.18.0->jupyter-events>=0.9.0->jupyter-server<3,>=2.4.0->notebook->jupyter) (1.3.0)\n",
      "Requirement already satisfied: webcolors>=1.11 in ./.local/lib/python3.11/site-packages (from jsonschema[format-nongpl]>=4.18.0->jupyter-events>=0.9.0->jupyter-server<3,>=2.4.0->notebook->jupyter) (1.13)\n",
      "Requirement already satisfied: cffi>=1.0.1 in ./.local/lib/python3.11/site-packages (from argon2-cffi-bindings->argon2-cffi->jupyter-server<3,>=2.4.0->notebook->jupyter) (1.16.0)\n",
      "Requirement already satisfied: pycparser in ./.local/lib/python3.11/site-packages (from cffi>=1.0.1->argon2-cffi-bindings->argon2-cffi->jupyter-server<3,>=2.4.0->notebook->jupyter) (2.21)\n",
      "Requirement already satisfied: arrow>=0.15.0 in ./.local/lib/python3.11/site-packages (from isoduration->jsonschema[format-nongpl]>=4.18.0->jupyter-events>=0.9.0->jupyter-server<3,>=2.4.0->notebook->jupyter) (1.3.0)\n",
      "Requirement already satisfied: types-python-dateutil>=2.8.10 in ./.local/lib/python3.11/site-packages (from arrow>=0.15.0->isoduration->jsonschema[format-nongpl]>=4.18.0->jupyter-events>=0.9.0->jupyter-server<3,>=2.4.0->notebook->jupyter) (2.8.19.20240106)\n",
      "Note: you may need to restart the kernel to use updated packages.\n"
     ]
    }
   ],
   "source": [
    "pip install jupyter"
   ]
  },
  {
   "cell_type": "code",
   "execution_count": 8,
   "id": "477fc795-299f-41f8-b16e-3e16ad217198",
   "metadata": {},
   "outputs": [
    {
     "name": "stdout",
     "output_type": "stream",
     "text": [
      "Defaulting to user installation because normal site-packages is not writeable\n",
      "Requirement already satisfied: pandas in /opt/conda/envs/mggy8413/lib/python3.11/site-packages (2.2.0)\n",
      "Requirement already satisfied: numpy<2,>=1.23.2 in /opt/conda/envs/mggy8413/lib/python3.11/site-packages (from pandas) (1.26.4)\n",
      "Requirement already satisfied: python-dateutil>=2.8.2 in /opt/conda/envs/mggy8413/lib/python3.11/site-packages (from pandas) (2.8.2)\n",
      "Requirement already satisfied: pytz>=2020.1 in /opt/conda/envs/mggy8413/lib/python3.11/site-packages (from pandas) (2024.1)\n",
      "Requirement already satisfied: tzdata>=2022.7 in /opt/conda/envs/mggy8413/lib/python3.11/site-packages (from pandas) (2024.1)\n",
      "Requirement already satisfied: six>=1.5 in /opt/conda/envs/mggy8413/lib/python3.11/site-packages (from python-dateutil>=2.8.2->pandas) (1.16.0)\n",
      "Defaulting to user installation because normal site-packages is not writeable\n",
      "Requirement already satisfied: joblib in /opt/conda/envs/mggy8413/lib/python3.11/site-packages (1.3.2)\n",
      "Defaulting to user installation because normal site-packages is not writeable\n",
      "Requirement already satisfied: scipy in /opt/conda/envs/mggy8413/lib/python3.11/site-packages (1.12.0)\n",
      "Requirement already satisfied: numpy<1.29.0,>=1.22.4 in /opt/conda/envs/mggy8413/lib/python3.11/site-packages (from scipy) (1.26.4)\n",
      "Defaulting to user installation because normal site-packages is not writeable\n",
      "\u001b[31mERROR: Could not find a version that satisfies the requirement math (from versions: none)\u001b[0m\u001b[31m\n",
      "\u001b[0m\u001b[31mERROR: No matching distribution found for math\u001b[0m\u001b[31m\n",
      "\u001b[0m"
     ]
    }
   ],
   "source": [
    "!pip install pandas\n",
    "!pip install joblib\n",
    "!pip install scipy\n",
    "!pip install math"
   ]
  },
  {
   "cell_type": "code",
   "execution_count": 9,
   "id": "da8fb702-6c46-4d4c-9f58-873761e4d557",
   "metadata": {},
   "outputs": [],
   "source": [
    "import pandas as pd\n",
    "import numpy as np\n",
    "import statsmodels.api as sm\n",
    "import os"
   ]
  },
  {
   "cell_type": "code",
   "execution_count": 10,
   "id": "89cc97ba-94e7-4c7a-8d7d-08d157e22c1b",
   "metadata": {},
   "outputs": [],
   "source": [
    "df = pd.read_pickle(r\"shared/Motor_Vehicle_Collisions_-_Crashes.pkl\")"
   ]
  },
  {
   "cell_type": "code",
   "execution_count": 215,
   "id": "bf74749c-e159-4dc9-98ea-1a268886f565",
   "metadata": {
    "collapsed": true,
    "jupyter": {
     "outputs_hidden": true
    },
    "scrolled": true
   },
   "outputs": [
    {
     "name": "stdout",
     "output_type": "stream",
     "text": [
      "<class 'pandas.core.frame.DataFrame'>\n",
      "RangeIndex: 2018245 entries, 0 to 2018244\n",
      "Data columns (total 28 columns):\n",
      " #   Column                         Dtype         \n",
      "---  ------                         -----         \n",
      " 0   CRASH DATE_CRASH TIME          datetime64[ns]\n",
      " 1   BOROUGH                        object        \n",
      " 2   ZIP CODE                       object        \n",
      " 3   LATITUDE                       float64       \n",
      " 4   LONGITUDE                      float64       \n",
      " 5   LOCATION                       object        \n",
      " 6   ON STREET NAME                 object        \n",
      " 7   CROSS STREET NAME              object        \n",
      " 8   OFF STREET NAME                object        \n",
      " 9   NUMBER OF PERSONS INJURED      float64       \n",
      " 10  NUMBER OF PERSONS KILLED       float64       \n",
      " 11  NUMBER OF PEDESTRIANS INJURED  int64         \n",
      " 12  NUMBER OF PEDESTRIANS KILLED   int64         \n",
      " 13  NUMBER OF CYCLIST INJURED      int64         \n",
      " 14  NUMBER OF CYCLIST KILLED       int64         \n",
      " 15  NUMBER OF MOTORIST INJURED     int64         \n",
      " 16  NUMBER OF MOTORIST KILLED      int64         \n",
      " 17  CONTRIBUTING FACTOR VEHICLE 1  object        \n",
      " 18  CONTRIBUTING FACTOR VEHICLE 2  object        \n",
      " 19  CONTRIBUTING FACTOR VEHICLE 3  object        \n",
      " 20  CONTRIBUTING FACTOR VEHICLE 4  object        \n",
      " 21  CONTRIBUTING FACTOR VEHICLE 5  object        \n",
      " 22  COLLISION_ID                   int64         \n",
      " 23  VEHICLE TYPE CODE 1            object        \n",
      " 24  VEHICLE TYPE CODE 2            object        \n",
      " 25  VEHICLE TYPE CODE 3            object        \n",
      " 26  VEHICLE TYPE CODE 4            object        \n",
      " 27  VEHICLE TYPE CODE 5            object        \n",
      "dtypes: datetime64[ns](1), float64(4), int64(7), object(16)\n",
      "memory usage: 431.1+ MB\n"
     ]
    }
   ],
   "source": [
    "df.info()"
   ]
  },
  {
   "cell_type": "code",
   "execution_count": 5,
   "id": "a0a6ea90-0d9e-4228-9b46-c95b6f5215c8",
   "metadata": {},
   "outputs": [],
   "source": [
    "### Show some exploratory data analysis here\n",
    "## Borough with the second highest number of crashes reported since 2012"
   ]
  },
  {
   "cell_type": "code",
   "execution_count": 218,
   "id": "4d86454e-1ebe-4ce7-afc6-61e21793de33",
   "metadata": {},
   "outputs": [
    {
     "name": "stdout",
     "output_type": "stream",
     "text": [
      "BOROUGH\n",
      "BROOKLYN         441026\n",
      "QUEENS           372457\n",
      "MANHATTAN        313266\n",
      "BRONX            205345\n",
      "STATEN ISLAND     58297\n",
      "Name: count, dtype: int64\n"
     ]
    }
   ],
   "source": [
    "#Remove NaN values in BOROUGH column and count total number of crashes by BOROUGH\n",
    "BR=df.dropna(subset='BOROUGH')\n",
    "print(BR['BOROUGH'].value_counts())"
   ]
  },
  {
   "cell_type": "code",
   "execution_count": 219,
   "id": "7c867d95-5706-4115-a8de-0fee58e017f0",
   "metadata": {},
   "outputs": [
    {
     "name": "stdout",
     "output_type": "stream",
     "text": [
      "               Number of Crashes  Population\n",
      "BROOKLYN                  441026     2648452\n",
      "QUEENS                    372457     2330295\n",
      "MANHATTAN                 313266     1638281\n",
      "BRONX                     205345     1446788\n",
      "STATEN ISLAND              58297      487155\n"
     ]
    }
   ],
   "source": [
    "#table of number of crashes and population for each borough\n",
    "q3 = pd.DataFrame({'Number of Crashes':[441026,372457,313266,205345,58297],'Population':[2648452,2330295,1638281,1446788,487155]},index=['BROOKLYN','QUEENS','MANHATTAN','BRONX','STATEN ISLAND'])\n",
    "print(q3)"
   ]
  },
  {
   "cell_type": "code",
   "execution_count": 220,
   "id": "031ee9dc-3281-411e-8f48-d0d097594f35",
   "metadata": {},
   "outputs": [
    {
     "name": "stdout",
     "output_type": "stream",
     "text": [
      "               Number of Crashes  Population  crashes for every 100,000 people\n",
      "BROOKLYN                  441026     2648452                      16652.217975\n",
      "QUEENS                    372457     2330295                      15983.255339\n",
      "MANHATTAN                 313266     1638281                      19121.628097\n",
      "BRONX                     205345     1446788                      14193.164444\n",
      "STATEN ISLAND              58297      487155                      11966.827806\n"
     ]
    }
   ],
   "source": [
    "#number of crashes for every 100,000 people\n",
    "q3['crashes for every 100,000 people']=q3['Number of Crashes']/q3['Population']*100000\n",
    "print(q3)"
   ]
  },
  {
   "cell_type": "code",
   "execution_count": 221,
   "id": "eb9484bc-adaf-4c8c-9702-c20edc728c44",
   "metadata": {
    "scrolled": true
   },
   "outputs": [],
   "source": [
    "#Remove all rows where the contributing factor vehicle 1 is not known (ie, is 'Unspecified') \n",
    "#Leaving only the crashes where only this information is available.\n",
    "v1=df.dropna(subset='CONTRIBUTING FACTOR VEHICLE 1')\n",
    "filtered_v1=v1[(v1['CONTRIBUTING FACTOR VEHICLE 1'] != 'Unspecified') & (v1['CONTRIBUTING FACTOR VEHICLE 1'] != '80') & (v1['CONTRIBUTING FACTOR VEHICLE 1'] != '1')]"
   ]
  },
  {
   "cell_type": "code",
   "execution_count": 222,
   "id": "c4884169-042f-4785-ada1-a593228719c0",
   "metadata": {},
   "outputs": [
    {
     "data": {
      "text/plain": [
       "CONTRIBUTING FACTOR VEHICLE 1\n",
       "Driver Inattention/Distraction    0.304205\n",
       "Failure to Yield Right-of-Way     0.090342\n",
       "Following Too Closely             0.081473\n",
       "Backing Unsafely                  0.056891\n",
       "Other Vehicular                   0.047525\n",
       "Name: count, dtype: float64"
      ]
     },
     "execution_count": 222,
     "metadata": {},
     "output_type": "execute_result"
    }
   ],
   "source": [
    "#leading causes of crashes and the proportion of accidents\n",
    "filtered_v1['CONTRIBUTING FACTOR VEHICLE 1'].value_counts().head(5).div(1319050)"
   ]
  },
  {
   "cell_type": "code",
   "execution_count": 223,
   "id": "52510006-b5b6-45ba-8092-4d39fd1cdef7",
   "metadata": {},
   "outputs": [
    {
     "data": {
      "text/plain": [
       "0.5804366779121338"
      ]
     },
     "execution_count": 223,
     "metadata": {},
     "output_type": "execute_result"
    }
   ],
   "source": [
    "#The top 5 causes of crashes (ignoring 'Unspecified') account for what proportion of total crashes\n",
    "filtered_v1['CONTRIBUTING FACTOR VEHICLE 1'].value_counts().head(5).div(1319050).sum()"
   ]
  },
  {
   "cell_type": "code",
   "execution_count": 224,
   "id": "10ba539e-3c9f-47cc-b218-8c1131202f50",
   "metadata": {},
   "outputs": [],
   "source": [
    "#Missing values for the number of persons killed should be assumed to be equal to zero killed.\n",
    "df['NUMBER OF PERSONS KILLED']=df['NUMBER OF PERSONS KILLED'].fillna(0)"
   ]
  },
  {
   "cell_type": "code",
   "execution_count": 225,
   "id": "c8a8569c-fa13-4142-a237-8780d74ad909",
   "metadata": {},
   "outputs": [
    {
     "name": "stdout",
     "output_type": "stream",
     "text": [
      "the total count of accidents that involved two or more fatalities: 88\n"
     ]
    }
   ],
   "source": [
    "#the total count of accidents that involved two or more fatalities\n",
    "death2 = df[df['NUMBER OF PERSONS KILLED']>=2]\n",
    "count_death2 = death2['NUMBER OF PERSONS KILLED'].count()\n",
    "print(\"the total count of accidents that involved two or more fatalities:\",count_death2) "
   ]
  },
  {
   "cell_type": "code",
   "execution_count": 226,
   "id": "aace0764-f7b6-42f0-925f-ff4f8d36a628",
   "metadata": {},
   "outputs": [
    {
     "name": "stdout",
     "output_type": "stream",
     "text": [
      "the total count of accidents that involved one or more fatalities: 2804\n"
     ]
    }
   ],
   "source": [
    "#the total count of accidents that involved one or more fatalities\n",
    "death1 = df[df['NUMBER OF PERSONS KILLED']>=1]\n",
    "count_death1 = death1['NUMBER OF PERSONS KILLED'].count()\n",
    "print(\"the total count of accidents that involved one or more fatalities:\",count_death1) "
   ]
  },
  {
   "cell_type": "code",
   "execution_count": 227,
   "id": "324d7759-1681-46f7-9574-12e03c0a0706",
   "metadata": {
    "scrolled": true
   },
   "outputs": [
    {
     "data": {
      "text/plain": [
       "1.3893258747079764"
      ]
     },
     "execution_count": 227,
     "metadata": {},
     "output_type": "execute_result"
    }
   ],
   "source": [
    "#calculate the total count of accidents that involved fatalities and average of fatalities in every 1000 accidents\n",
    "count_death1 / df['NUMBER OF PERSONS KILLED'].count() * 1000"
   ]
  },
  {
   "cell_type": "code",
   "execution_count": 228,
   "id": "c9169747-bc8a-4e6a-a7ec-fb59d8e5558e",
   "metadata": {},
   "outputs": [
    {
     "name": "stdout",
     "output_type": "stream",
     "text": [
      "number of data do not have a Cross Street Name: 755532\n"
     ]
    }
   ],
   "source": [
    "#number of data do not have a Cross Street Name\n",
    "nan_ctn = df['CROSS STREET NAME'].isna().sum()\n",
    "print(\"number of data do not have a Cross Street Name:\", nan_ctn)"
   ]
  },
  {
   "cell_type": "code",
   "execution_count": 229,
   "id": "06063893-7487-4376-a313-022d88f6811d",
   "metadata": {},
   "outputs": [
    {
     "data": {
      "text/plain": [
       "0.37435098315615795"
      ]
     },
     "execution_count": 229,
     "metadata": {},
     "output_type": "execute_result"
    }
   ],
   "source": [
    "#calculate the total of accidents and proportion of accidents in the data do not have a Cross Street Name\n",
    "nan_ctn/df.shape[0]"
   ]
  },
  {
   "cell_type": "code",
   "execution_count": 230,
   "id": "9a4d8a4f-76ec-4a0d-8019-9c06931205d5",
   "metadata": {},
   "outputs": [
    {
     "data": {
      "text/plain": [
       "COMBINATION VEHICLES\n",
       "SedanSedan                                                                197944\n",
       "PASSENGER VEHICLEPASSENGER VEHICLE                                        193260\n",
       "Station Wagon/Sport Utility VehicleStation Wagon/Sport Utility Vehicle    133780\n",
       "SedanStation Wagon/Sport Utility Vehicle                                  123915\n",
       "Station Wagon/Sport Utility VehicleSedan                                  123812\n",
       "                                                                           ...  \n",
       "PKFEDER                                                                        1\n",
       "AmbulAmbul                                                                     1\n",
       "Station Wagon/Sport Utility VehicleSAFET                                       1\n",
       "Tractor Truck DieselAMBUL                                                      1\n",
       "Station Wagon/Sport Utility Vehiclewheelchair                                  1\n",
       "Name: count, Length: 6896, dtype: int64"
      ]
     },
     "execution_count": 230,
     "metadata": {},
     "output_type": "execute_result"
    }
   ],
   "source": [
    "#create combination of vehicle 1 and 2 and drop NaN values\n",
    "df['COMBINATION VEHICLES']=df['VEHICLE TYPE CODE 1']+df['VEHICLE TYPE CODE 2']\n",
    "cv=df.dropna(subset='COMBINATION VEHICLES')\n",
    "cv['COMBINATION VEHICLES'].value_counts()"
   ]
  },
  {
   "cell_type": "code",
   "execution_count": 231,
   "id": "08380689-1164-4f0f-84e7-04250ec62a86",
   "metadata": {},
   "outputs": [],
   "source": [
    "#Filter crashes where the contributing factor was alcohol involvement and count how many crashes resulted in fatalities\n",
    "filtered_ai = df[df['CONTRIBUTING FACTOR VEHICLE 1'] == 'Alcohol Involvement']\n",
    "filtered_ai_death=filtered_ai[filtered_ai['NUMBER OF PERSONS KILLED']>=1]"
   ]
  },
  {
   "cell_type": "code",
   "execution_count": 232,
   "id": "459feeec-fab4-4137-adf5-7000aadf35f4",
   "metadata": {},
   "outputs": [
    {
     "data": {
      "text/plain": [
       "0.0046638345031400075"
      ]
     },
     "execution_count": 232,
     "metadata": {},
     "output_type": "execute_result"
    }
   ],
   "source": [
    "#total number of crashes caused by alcohol involvement and proportion of crashes that resulted in fatalities\n",
    "filtered_ai_death['NUMBER OF PERSONS KILLED'].count()/filtered_ai['NUMBER OF PERSONS KILLED'].count()"
   ]
  },
  {
   "cell_type": "code",
   "execution_count": 233,
   "id": "58982739-99b7-4842-a3a0-1366c8cc80d9",
   "metadata": {},
   "outputs": [
    {
     "data": {
      "text/plain": [
       "0.20514010935243243"
      ]
     },
     "execution_count": 233,
     "metadata": {},
     "output_type": "execute_result"
    }
   ],
   "source": [
    "#the number of crashes that occur between 4 and 7 pm and proportion\n",
    "evening = df[(df['CRASH DATE_CRASH TIME'].dt.hour >= 16) & (df['CRASH DATE_CRASH TIME'].dt.hour < 19)]\n",
    "evening['CRASH DATE_CRASH TIME'].count()/df['CRASH DATE_CRASH TIME'].count()"
   ]
  },
  {
   "cell_type": "code",
   "execution_count": 234,
   "id": "d13d08ff-ad0f-4a62-8543-b4605daf56df",
   "metadata": {},
   "outputs": [],
   "source": [
    "#Filter the dataset to include only crashes where VEHICLE TYPE CODE 1 or VEHICLE TYPE CODE 2 contains the string MOTORCYCLE\n",
    "motor = df[(df['VEHICLE TYPE CODE 1'].str.contains('MOTORCYCLE'))|(df['VEHICLE TYPE CODE 2'].str.contains('MOTORCYCLE'))]"
   ]
  },
  {
   "cell_type": "code",
   "execution_count": 235,
   "id": "5092b656-139e-47b9-8d7a-2dc60245465d",
   "metadata": {},
   "outputs": [
    {
     "data": {
      "text/plain": [
       "0.5004565018912221"
      ]
     },
     "execution_count": 235,
     "metadata": {},
     "output_type": "execute_result"
    }
   ],
   "source": [
    "#check this reduced dataset for injuries greater than 0, and fatalities equal to 0 and calculate proportion\n",
    "filtered_motor = motor[(motor['NUMBER OF PERSONS INJURED'] > 0) & (motor['NUMBER OF PERSONS KILLED'] == 0)]\n",
    "filtered_motor['NUMBER OF PERSONS INJURED'].count()/motor['NUMBER OF PERSONS INJURED'].count()"
   ]
  },
  {
   "cell_type": "code",
   "execution_count": 12,
   "id": "e4384321-f987-4d49-8158-52005a934a03",
   "metadata": {},
   "outputs": [
    {
     "data": {
      "text/plain": [
       "19108"
      ]
     },
     "execution_count": 12,
     "metadata": {},
     "output_type": "execute_result"
    }
   ],
   "source": [
    "# filter crashes that involved bicycles as one of the vehicles\n",
    "bic = df[(df['VEHICLE TYPE CODE 1'].str.contains('BICYCLE'))|(df['VEHICLE TYPE CODE 2'].str.contains('BICYCLE'))]\n",
    "len(bic)"
   ]
  },
  {
   "cell_type": "code",
   "execution_count": null,
   "id": "c0008ad1-3b35-4648-bde7-7ab2c71dc9c5",
   "metadata": {},
   "outputs": [],
   "source": []
  }
 ],
 "metadata": {
  "kernelspec": {
   "display_name": "Python [conda env:mggy8413]",
   "language": "python",
   "name": "conda-env-mggy8413-py"
  },
  "language_info": {
   "codemirror_mode": {
    "name": "ipython",
    "version": 3
   },
   "file_extension": ".py",
   "mimetype": "text/x-python",
   "name": "python",
   "nbconvert_exporter": "python",
   "pygments_lexer": "ipython3",
   "version": "3.11.8"
  }
 },
 "nbformat": 4,
 "nbformat_minor": 5
}
