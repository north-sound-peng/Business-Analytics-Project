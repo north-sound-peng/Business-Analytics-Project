{
 "cells": [
  {
   "cell_type": "code",
   "execution_count": 1,
   "id": "d0ac4e56-efbb-4f42-a697-abde55e284d4",
   "metadata": {},
   "outputs": [],
   "source": [
    "import numpy as np\n",
    "import pandas as pd"
   ]
  },
  {
   "cell_type": "code",
   "execution_count": 2,
   "id": "b9c75932-dc40-49d8-8d19-7e6f2d7aeee1",
   "metadata": {},
   "outputs": [],
   "source": [
    "# Load the data\n",
    "df = pd.read_pickle('shared/Project-3_NYC_311_Calls.pkl')"
   ]
  },
  {
   "cell_type": "code",
   "execution_count": 3,
   "id": "82b19ee7-1047-4359-9920-ac44651d7e3c",
   "metadata": {
    "scrolled": true
   },
   "outputs": [],
   "source": [
    "# Move the ‘Created Date’ to the dataframe’s index\n",
    "df = df.set_index(pd.DatetimeIndex(df['Created Date']))\n",
    "del df['Created Date']"
   ]
  },
  {
   "cell_type": "code",
   "execution_count": 4,
   "id": "a081dc7a-292e-4ff0-9a33-dba5f01cf646",
   "metadata": {
    "scrolled": true
   },
   "outputs": [
    {
     "data": {
      "text/html": [
       "<div>\n",
       "<style scoped>\n",
       "    .dataframe tbody tr th:only-of-type {\n",
       "        vertical-align: middle;\n",
       "    }\n",
       "\n",
       "    .dataframe tbody tr th {\n",
       "        vertical-align: top;\n",
       "    }\n",
       "\n",
       "    .dataframe thead th {\n",
       "        text-align: right;\n",
       "    }\n",
       "</style>\n",
       "<table border=\"1\" class=\"dataframe\">\n",
       "  <thead>\n",
       "    <tr style=\"text-align: right;\">\n",
       "      <th></th>\n",
       "      <th>Unique Key</th>\n",
       "      <th>Agency</th>\n",
       "      <th>Agency Name</th>\n",
       "      <th>Complaint Type</th>\n",
       "      <th>Descriptor</th>\n",
       "      <th>Location Type</th>\n",
       "      <th>Incident Zip</th>\n",
       "      <th>City</th>\n",
       "      <th>Resolution Description</th>\n",
       "      <th>Borough</th>\n",
       "      <th>Open Data Channel Type</th>\n",
       "    </tr>\n",
       "    <tr>\n",
       "      <th>Created Date</th>\n",
       "      <th></th>\n",
       "      <th></th>\n",
       "      <th></th>\n",
       "      <th></th>\n",
       "      <th></th>\n",
       "      <th></th>\n",
       "      <th></th>\n",
       "      <th></th>\n",
       "      <th></th>\n",
       "      <th></th>\n",
       "      <th></th>\n",
       "    </tr>\n",
       "  </thead>\n",
       "  <tbody>\n",
       "    <tr>\n",
       "      <th>2011-04-06 00:00:00</th>\n",
       "      <td>20184537</td>\n",
       "      <td>HPD</td>\n",
       "      <td>Department of Housing Preservation and Develop...</td>\n",
       "      <td>HEATING</td>\n",
       "      <td>HEAT</td>\n",
       "      <td>RESIDENTIAL BUILDING</td>\n",
       "      <td>10002.0</td>\n",
       "      <td>NEW YORK</td>\n",
       "      <td>More than one complaint was received for this ...</td>\n",
       "      <td>MANHATTAN</td>\n",
       "      <td>UNKNOWN</td>\n",
       "    </tr>\n",
       "    <tr>\n",
       "      <th>2011-04-06 00:00:00</th>\n",
       "      <td>20184538</td>\n",
       "      <td>HPD</td>\n",
       "      <td>Department of Housing Preservation and Develop...</td>\n",
       "      <td>GENERAL CONSTRUCTION</td>\n",
       "      <td>WINDOWS</td>\n",
       "      <td>RESIDENTIAL BUILDING</td>\n",
       "      <td>11236.0</td>\n",
       "      <td>BROOKLYN</td>\n",
       "      <td>The Department of Housing Preservation and Dev...</td>\n",
       "      <td>BROOKLYN</td>\n",
       "      <td>UNKNOWN</td>\n",
       "    </tr>\n",
       "    <tr>\n",
       "      <th>2011-04-06 00:00:00</th>\n",
       "      <td>20184539</td>\n",
       "      <td>HPD</td>\n",
       "      <td>Department of Housing Preservation and Develop...</td>\n",
       "      <td>PAINT - PLASTER</td>\n",
       "      <td>WALLS</td>\n",
       "      <td>RESIDENTIAL BUILDING</td>\n",
       "      <td>10460.0</td>\n",
       "      <td>BRONX</td>\n",
       "      <td>The Department of Housing Preservation and Dev...</td>\n",
       "      <td>BRONX</td>\n",
       "      <td>UNKNOWN</td>\n",
       "    </tr>\n",
       "    <tr>\n",
       "      <th>2022-07-08 11:14:43</th>\n",
       "      <td>54732265</td>\n",
       "      <td>DSNY</td>\n",
       "      <td>Department of Sanitation</td>\n",
       "      <td>Dirty Condition</td>\n",
       "      <td>Trash</td>\n",
       "      <td>Sidewalk</td>\n",
       "      <td>10467.0</td>\n",
       "      <td>BRONX</td>\n",
       "      <td>The Department of Sanitation investigated this...</td>\n",
       "      <td>BRONX</td>\n",
       "      <td>PHONE</td>\n",
       "    </tr>\n",
       "    <tr>\n",
       "      <th>2011-04-06 00:00:00</th>\n",
       "      <td>20184540</td>\n",
       "      <td>HPD</td>\n",
       "      <td>Department of Housing Preservation and Develop...</td>\n",
       "      <td>NONCONST</td>\n",
       "      <td>VERMIN</td>\n",
       "      <td>RESIDENTIAL BUILDING</td>\n",
       "      <td>10460.0</td>\n",
       "      <td>BRONX</td>\n",
       "      <td>The Department of Housing Preservation and Dev...</td>\n",
       "      <td>BRONX</td>\n",
       "      <td>UNKNOWN</td>\n",
       "    </tr>\n",
       "    <tr>\n",
       "      <th>...</th>\n",
       "      <td>...</td>\n",
       "      <td>...</td>\n",
       "      <td>...</td>\n",
       "      <td>...</td>\n",
       "      <td>...</td>\n",
       "      <td>...</td>\n",
       "      <td>...</td>\n",
       "      <td>...</td>\n",
       "      <td>...</td>\n",
       "      <td>...</td>\n",
       "      <td>...</td>\n",
       "    </tr>\n",
       "    <tr>\n",
       "      <th>2011-04-06 00:00:00</th>\n",
       "      <td>20184532</td>\n",
       "      <td>HPD</td>\n",
       "      <td>Department of Housing Preservation and Develop...</td>\n",
       "      <td>HEATING</td>\n",
       "      <td>HEAT</td>\n",
       "      <td>RESIDENTIAL BUILDING</td>\n",
       "      <td>10468</td>\n",
       "      <td>BRONX</td>\n",
       "      <td>The Department of Housing Preservation and Dev...</td>\n",
       "      <td>BRONX</td>\n",
       "      <td>UNKNOWN</td>\n",
       "    </tr>\n",
       "    <tr>\n",
       "      <th>2011-04-06 00:00:00</th>\n",
       "      <td>20184533</td>\n",
       "      <td>HPD</td>\n",
       "      <td>Department of Housing Preservation and Develop...</td>\n",
       "      <td>HEATING</td>\n",
       "      <td>HEAT</td>\n",
       "      <td>RESIDENTIAL BUILDING</td>\n",
       "      <td>10018</td>\n",
       "      <td>NEW YORK</td>\n",
       "      <td>More than one complaint was received for this ...</td>\n",
       "      <td>MANHATTAN</td>\n",
       "      <td>UNKNOWN</td>\n",
       "    </tr>\n",
       "    <tr>\n",
       "      <th>2011-04-06 00:00:00</th>\n",
       "      <td>20184534</td>\n",
       "      <td>HPD</td>\n",
       "      <td>Department of Housing Preservation and Develop...</td>\n",
       "      <td>GENERAL CONSTRUCTION</td>\n",
       "      <td>STAIRS</td>\n",
       "      <td>RESIDENTIAL BUILDING</td>\n",
       "      <td>10460</td>\n",
       "      <td>BRONX</td>\n",
       "      <td>The Department of Housing Preservation and Dev...</td>\n",
       "      <td>BRONX</td>\n",
       "      <td>UNKNOWN</td>\n",
       "    </tr>\n",
       "    <tr>\n",
       "      <th>2011-04-06 00:00:00</th>\n",
       "      <td>20184535</td>\n",
       "      <td>HPD</td>\n",
       "      <td>Department of Housing Preservation and Develop...</td>\n",
       "      <td>GENERAL CONSTRUCTION</td>\n",
       "      <td>GAS</td>\n",
       "      <td>RESIDENTIAL BUILDING</td>\n",
       "      <td>11236</td>\n",
       "      <td>BROOKLYN</td>\n",
       "      <td>The Department of Housing Preservation and Dev...</td>\n",
       "      <td>BROOKLYN</td>\n",
       "      <td>UNKNOWN</td>\n",
       "    </tr>\n",
       "    <tr>\n",
       "      <th>2011-04-06 00:00:00</th>\n",
       "      <td>20184536</td>\n",
       "      <td>HPD</td>\n",
       "      <td>Department of Housing Preservation and Develop...</td>\n",
       "      <td>PLUMBING</td>\n",
       "      <td>WATER-LEAKS</td>\n",
       "      <td>RESIDENTIAL BUILDING</td>\n",
       "      <td>11236</td>\n",
       "      <td>BROOKLYN</td>\n",
       "      <td>The Department of Housing Preservation and Dev...</td>\n",
       "      <td>BROOKLYN</td>\n",
       "      <td>UNKNOWN</td>\n",
       "    </tr>\n",
       "  </tbody>\n",
       "</table>\n",
       "<p>33780977 rows × 11 columns</p>\n",
       "</div>"
      ],
      "text/plain": [
       "                     Unique Key Agency  \\\n",
       "Created Date                             \n",
       "2011-04-06 00:00:00    20184537    HPD   \n",
       "2011-04-06 00:00:00    20184538    HPD   \n",
       "2011-04-06 00:00:00    20184539    HPD   \n",
       "2022-07-08 11:14:43    54732265   DSNY   \n",
       "2011-04-06 00:00:00    20184540    HPD   \n",
       "...                         ...    ...   \n",
       "2011-04-06 00:00:00    20184532    HPD   \n",
       "2011-04-06 00:00:00    20184533    HPD   \n",
       "2011-04-06 00:00:00    20184534    HPD   \n",
       "2011-04-06 00:00:00    20184535    HPD   \n",
       "2011-04-06 00:00:00    20184536    HPD   \n",
       "\n",
       "                                                           Agency Name  \\\n",
       "Created Date                                                             \n",
       "2011-04-06 00:00:00  Department of Housing Preservation and Develop...   \n",
       "2011-04-06 00:00:00  Department of Housing Preservation and Develop...   \n",
       "2011-04-06 00:00:00  Department of Housing Preservation and Develop...   \n",
       "2022-07-08 11:14:43                           Department of Sanitation   \n",
       "2011-04-06 00:00:00  Department of Housing Preservation and Develop...   \n",
       "...                                                                ...   \n",
       "2011-04-06 00:00:00  Department of Housing Preservation and Develop...   \n",
       "2011-04-06 00:00:00  Department of Housing Preservation and Develop...   \n",
       "2011-04-06 00:00:00  Department of Housing Preservation and Develop...   \n",
       "2011-04-06 00:00:00  Department of Housing Preservation and Develop...   \n",
       "2011-04-06 00:00:00  Department of Housing Preservation and Develop...   \n",
       "\n",
       "                           Complaint Type   Descriptor         Location Type  \\\n",
       "Created Date                                                                   \n",
       "2011-04-06 00:00:00               HEATING         HEAT  RESIDENTIAL BUILDING   \n",
       "2011-04-06 00:00:00  GENERAL CONSTRUCTION      WINDOWS  RESIDENTIAL BUILDING   \n",
       "2011-04-06 00:00:00       PAINT - PLASTER        WALLS  RESIDENTIAL BUILDING   \n",
       "2022-07-08 11:14:43       Dirty Condition        Trash              Sidewalk   \n",
       "2011-04-06 00:00:00              NONCONST       VERMIN  RESIDENTIAL BUILDING   \n",
       "...                                   ...          ...                   ...   \n",
       "2011-04-06 00:00:00               HEATING         HEAT  RESIDENTIAL BUILDING   \n",
       "2011-04-06 00:00:00               HEATING         HEAT  RESIDENTIAL BUILDING   \n",
       "2011-04-06 00:00:00  GENERAL CONSTRUCTION       STAIRS  RESIDENTIAL BUILDING   \n",
       "2011-04-06 00:00:00  GENERAL CONSTRUCTION          GAS  RESIDENTIAL BUILDING   \n",
       "2011-04-06 00:00:00              PLUMBING  WATER-LEAKS  RESIDENTIAL BUILDING   \n",
       "\n",
       "                    Incident Zip      City  \\\n",
       "Created Date                                 \n",
       "2011-04-06 00:00:00      10002.0  NEW YORK   \n",
       "2011-04-06 00:00:00      11236.0  BROOKLYN   \n",
       "2011-04-06 00:00:00      10460.0     BRONX   \n",
       "2022-07-08 11:14:43      10467.0     BRONX   \n",
       "2011-04-06 00:00:00      10460.0     BRONX   \n",
       "...                          ...       ...   \n",
       "2011-04-06 00:00:00        10468     BRONX   \n",
       "2011-04-06 00:00:00        10018  NEW YORK   \n",
       "2011-04-06 00:00:00        10460     BRONX   \n",
       "2011-04-06 00:00:00        11236  BROOKLYN   \n",
       "2011-04-06 00:00:00        11236  BROOKLYN   \n",
       "\n",
       "                                                Resolution Description  \\\n",
       "Created Date                                                             \n",
       "2011-04-06 00:00:00  More than one complaint was received for this ...   \n",
       "2011-04-06 00:00:00  The Department of Housing Preservation and Dev...   \n",
       "2011-04-06 00:00:00  The Department of Housing Preservation and Dev...   \n",
       "2022-07-08 11:14:43  The Department of Sanitation investigated this...   \n",
       "2011-04-06 00:00:00  The Department of Housing Preservation and Dev...   \n",
       "...                                                                ...   \n",
       "2011-04-06 00:00:00  The Department of Housing Preservation and Dev...   \n",
       "2011-04-06 00:00:00  More than one complaint was received for this ...   \n",
       "2011-04-06 00:00:00  The Department of Housing Preservation and Dev...   \n",
       "2011-04-06 00:00:00  The Department of Housing Preservation and Dev...   \n",
       "2011-04-06 00:00:00  The Department of Housing Preservation and Dev...   \n",
       "\n",
       "                       Borough Open Data Channel Type  \n",
       "Created Date                                           \n",
       "2011-04-06 00:00:00  MANHATTAN                UNKNOWN  \n",
       "2011-04-06 00:00:00   BROOKLYN                UNKNOWN  \n",
       "2011-04-06 00:00:00      BRONX                UNKNOWN  \n",
       "2022-07-08 11:14:43      BRONX                  PHONE  \n",
       "2011-04-06 00:00:00      BRONX                UNKNOWN  \n",
       "...                        ...                    ...  \n",
       "2011-04-06 00:00:00      BRONX                UNKNOWN  \n",
       "2011-04-06 00:00:00  MANHATTAN                UNKNOWN  \n",
       "2011-04-06 00:00:00      BRONX                UNKNOWN  \n",
       "2011-04-06 00:00:00   BROOKLYN                UNKNOWN  \n",
       "2011-04-06 00:00:00   BROOKLYN                UNKNOWN  \n",
       "\n",
       "[33780977 rows x 11 columns]"
      ]
     },
     "execution_count": 4,
     "metadata": {},
     "output_type": "execute_result"
    }
   ],
   "source": [
    "df"
   ]
  },
  {
   "cell_type": "code",
   "execution_count": 5,
   "id": "0c98ef42-92b4-4e5d-bdb8-b2d5c8a9eb99",
   "metadata": {},
   "outputs": [
    {
     "name": "stdout",
     "output_type": "stream",
     "text": [
      "Average number of daily complaints in 2022 is  8684.320547945206\n"
     ]
    }
   ],
   "source": [
    "# Filtering time series to 2022 and resampling dataset in daily aspect\n",
    "df2022 = df.loc['2022']\n",
    "daily_complaints_2022 = df2022['Unique Key'].resample('D').count()\n",
    "average_daily_complaints_2022 = daily_complaints_2022.mean()\n",
    "print(\"Average number of daily complaints in 2022 is \",average_daily_complaints_2022)"
   ]
  },
  {
   "cell_type": "code",
   "execution_count": 6,
   "id": "611c68ba-bfc2-4a20-8763-b474ec53d634",
   "metadata": {},
   "outputs": [
    {
     "data": {
      "text/plain": [
       "Created Date\n",
       "2020-08-04    24415\n",
       "2020-08-05    19560\n",
       "2020-07-05    16916\n",
       "2020-06-21    15883\n",
       "2020-06-20    15825\n",
       "              ...  \n",
       "2011-04-24     2264\n",
       "2012-10-28     2237\n",
       "2011-07-03     2123\n",
       "2011-08-27     1730\n",
       "2023-08-04      384\n",
       "Name: Unique Key, Length: 4964, dtype: int64"
      ]
     },
     "execution_count": 6,
     "metadata": {},
     "output_type": "execute_result"
    }
   ],
   "source": [
    "# On 2020-08-04 were the maximum number of calls received\n",
    "daily_complaints = df['Unique Key'].resample('D').count()\n",
    "daily_complaints.sort_values(ascending=False)"
   ]
  },
  {
   "cell_type": "code",
   "execution_count": 7,
   "id": "a725e162-bbe8-4a34-97cd-186556d33c74",
   "metadata": {},
   "outputs": [
    {
     "data": {
      "text/plain": [
       "Complaint Type\n",
       "Damaged Tree                           14863\n",
       "Noise - Residential                      982\n",
       "Request Large Bulky Item Collection      909\n",
       "Street Light Condition                   617\n",
       "Overgrown Tree/Branches                  609\n",
       "                                       ...  \n",
       "Bus Stop Shelter Placement                 1\n",
       "Unsanitary Pigeon Condition                1\n",
       "Public Payphone Complaint                  1\n",
       "For Hire Vehicle Report                    1\n",
       "Bridge Condition                           1\n",
       "Name: count, Length: 125, dtype: int64"
      ]
     },
     "execution_count": 7,
     "metadata": {},
     "output_type": "execute_result"
    }
   ],
   "source": [
    "# On the date the maximum number of calls were received, Damaged Tree was the most important complaint type?\n",
    "maxdf = df.loc['2020-08-04']\n",
    "maxdf['Complaint Type'].value_counts()"
   ]
  },
  {
   "cell_type": "code",
   "execution_count": null,
   "id": "fdf448a6-3a94-4572-ac98-26756d3ba849",
   "metadata": {},
   "outputs": [],
   "source": [
    "#Group the data by month throughout several years\n",
    "# December has the fewest number of calls.\n",
    "monthly_complaints = df['Unique Key'].resample('ME').size()\n",
    "monthly_summary = monthly_complaints.groupby(monthly_complaints.index.month).sum()\n",
    "monthly_summary.sort_values()"
   ]
  },
  {
   "cell_type": "code",
   "execution_count": null,
   "id": "542f4792-085e-4ad4-a02d-edfd8c1f05c2",
   "metadata": {},
   "outputs": [],
   "source": [
    "import matplotlib.pyplot as plt\n",
    "from statsmodels.tsa.seasonal import seasonal_decompose"
   ]
  },
  {
   "cell_type": "code",
   "execution_count": null,
   "id": "cf2d27b1-c141-4527-a1c6-d33aa7d96141",
   "metadata": {},
   "outputs": [],
   "source": [
    "#count the number of calls by days and perform ETS decomposition based on additive model\n",
    "daily_call = df['Unique Key'].resample('D').size()\n",
    "result = seasonal_decompose(daily_call, model = 'additive') \n",
    "seasonal = result.seasonal\n",
    "seasonal_value_on_christmas = seasonal.loc['2020-12-25']\n",
    "print(\"the value of the seasonal component on 2020-12-25 is\",round(seasonal_value_on_christmas))"
   ]
  },
  {
   "cell_type": "code",
   "execution_count": null,
   "id": "551e7698-80b1-4da5-be1a-2e6a3145cd49",
   "metadata": {},
   "outputs": [],
   "source": [
    "#Autocorrelation of the number of daily calls with the number of calls the day prior\n",
    "autocorrelation_lag_1 = daily_call.autocorr(lag=1)\n",
    "print(\"Autocorrelation of the number of daily calls with the number of calls the day prior is\", autocorrelation_lag_1)"
   ]
  },
  {
   "cell_type": "code",
   "execution_count": null,
   "id": "2e1e8b25-7bf2-41d3-b66d-5bf1448eeba0",
   "metadata": {},
   "outputs": [],
   "source": [
    "from prophet import Prophet"
   ]
  },
  {
   "cell_type": "code",
   "execution_count": null,
   "id": "e56e2904-f769-4650-b675-3bb156048e8e",
   "metadata": {},
   "outputs": [],
   "source": [
    "#add columns of no. of daily calls to the dataframe\n",
    "daily_call_df = daily_call.to_frame(name='Daily Calls')"
   ]
  },
  {
   "cell_type": "code",
   "execution_count": null,
   "id": "5273a860-8d84-4b8b-a788-d8c7b41222ce",
   "metadata": {},
   "outputs": [],
   "source": [
    "#Forecast the daily series with a test set of 90 days using the Prophet\n",
    "train_set = daily_call_df.iloc[:-90]\n",
    "test_set = daily_call_df.iloc[-90:]\n",
    "\n",
    "print(\"Training set: \", train_set.shape[0])\n",
    "print(\"Test set: \", test_set.shape[0])"
   ]
  },
  {
   "cell_type": "code",
   "execution_count": null,
   "id": "29ebbee2-6fbb-4bfe-872e-2200da98ebf7",
   "metadata": {},
   "outputs": [],
   "source": [
    "# Create the ds and y columns for Prophet\n",
    "train_set_prophet = train_set.reset_index()\n",
    "train_set_prophet = train_set_prophet[['Created Date', 'Daily Calls']]\n",
    "train_set_prophet.columns = ['ds', 'y']\n",
    "train_set_prophet.head()"
   ]
  },
  {
   "cell_type": "code",
   "execution_count": null,
   "id": "9dd7eef1-a157-4fee-beb3-407659e6e581",
   "metadata": {},
   "outputs": [],
   "source": [
    "model = Prophet()\n",
    "model.fit(train_set_prophet)"
   ]
  },
  {
   "cell_type": "code",
   "execution_count": null,
   "id": "05d8026c-be16-4ef9-9ae8-56887fbc1823",
   "metadata": {},
   "outputs": [],
   "source": [
    "future = model.make_future_dataframe(periods=90,freq = 'd')"
   ]
  },
  {
   "cell_type": "code",
   "execution_count": null,
   "id": "2dbb90ad-17fa-4e05-9b0f-d86ffc8d6c63",
   "metadata": {},
   "outputs": [],
   "source": [
    "forecast = model.predict(future)"
   ]
  },
  {
   "cell_type": "code",
   "execution_count": null,
   "id": "1da44593-5769-4dce-b2b9-92b20e550a78",
   "metadata": {},
   "outputs": [],
   "source": [
    "preds = pd.DataFrame({'Prediction': forecast.yhat[-90:]})\n",
    "preds.index = pd.to_datetime(forecast.ds[-90:])\n",
    "preds.index.names = ['Date']\n",
    "preds"
   ]
  },
  {
   "cell_type": "code",
   "execution_count": null,
   "id": "a2a4b62f-4722-4b61-a697-3eeb37bc253c",
   "metadata": {},
   "outputs": [],
   "source": [
    "# Calculate Evaluation Metrics\n",
    "y_test = test_set['Daily Calls'] \n",
    "y_pred = preds['Prediction']\n",
    "pd.DataFrame({'y_test': y_test, 'y_pred' : y_pred, 'diff':y_test - y_pred})"
   ]
  },
  {
   "cell_type": "code",
   "execution_count": null,
   "id": "199bbfa0-7a9a-4447-ad50-1f70b21110b2",
   "metadata": {},
   "outputs": [],
   "source": [
    "# Model evaluation\n",
    "from sklearn.metrics import mean_absolute_error, mean_squared_error\n",
    "print('MSE = ', mean_squared_error(y_test,y_pred))\n",
    "print('RMSE = ', np.sqrt(mean_squared_error(y_test,y_pred)))\n",
    "print('MAE = ', mean_absolute_error(y_test,y_pred))"
   ]
  }
 ],
 "metadata": {
  "kernelspec": {
   "display_name": "Python [conda env:mggy8413]",
   "language": "python",
   "name": "conda-env-mggy8413-py"
  },
  "language_info": {
   "codemirror_mode": {
    "name": "ipython",
    "version": 3
   },
   "file_extension": ".py",
   "mimetype": "text/x-python",
   "name": "python",
   "nbconvert_exporter": "python",
   "pygments_lexer": "ipython3",
   "version": "3.11.8"
  }
 },
 "nbformat": 4,
 "nbformat_minor": 5
}
